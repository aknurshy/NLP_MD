{
 "cells": [
  {
   "cell_type": "markdown",
   "metadata": {
    "colab_type": "text",
    "id": "hMo3kj3LC3rA"
   },
   "source": [
    "#### Lab 7 \n",
    "#### Rouge Metrics"
   ]
  },
  {
   "cell_type": "code",
   "execution_count": 2,
   "metadata": {
    "colab": {},
    "colab_type": "code",
    "id": "obigo_n1C3rB",
    "outputId": "5a52f044-6ee2-4495-d030-b5253dbfd1db"
   },
   "outputs": [],
   "source": [
    "import pandas as pd\n",
    "from nltk.corpus import stopwords\n",
    "from nltk.corpus import wordnet as wn\n",
    "import numpy as np\n",
    "from fuzzywuzzy import fuzz \n",
    "import ipywidgets as widgets\n",
    "import pprint\n",
    "from ipywidgets import interact, interact_manual\n",
    "import re\n",
    "__PATH__ = \"./data.csv\"\n",
    "df = pd.read_csv(__PATH__,sep=\";\",header=0)"
   ]
  },
  {
   "cell_type": "markdown",
   "metadata": {
    "colab_type": "text",
    "id": "XG1xtU4xC3rK"
   },
   "source": [
    "#### Preprocessing the title to list of tokens"
   ]
  },
  {
   "cell_type": "code",
   "execution_count": 8,
   "metadata": {
    "colab": {},
    "colab_type": "code",
    "id": "iRgalGvEC3rL"
   },
   "outputs": [
    {
     "name": "stdout",
     "output_type": "stream",
     "text": [
      "{('much', 'card', 'deck', 'well', 'shuffled'): {'much': [Synset('much.n.01'), Synset('much.a.01'), Synset('much.r.01'), Synset('much.r.02'), Synset('a_lot.r.01'), Synset('much.r.04'), Synset('much.r.05')], 'card': [Synset('card.n.01'), Synset('card.n.02'), Synset('card.n.03'), Synset('card.n.04'), Synset('wag.n.01'), Synset('poster.n.01'), Synset('calling_card.n.02'), Synset('card.n.08'), Synset('menu.n.01'), Synset('batting_order.n.01'), Synset('circuit_board.n.01'), Synset('tease.v.07'), Synset('card.v.02')], 'deck': [Synset('deck.n.01'), Synset('deck.n.02'), Synset('pack_of_cards.n.01'), Synset('deck.n.04'), Synset('deck.v.01'), Synset('deck.v.02'), Synset('deck.v.03')], 'well': [Synset('well.n.01'), Synset('well.n.02'), Synset('well.n.03'), Synset('well.n.04'), Synset('well.n.05'), Synset('well.v.01'), Synset('well.a.01'), Synset('good.s.13'), Synset('well.s.03'), Synset('well.r.01'), Synset('well.r.02'), Synset('well.r.03'), Synset('well.r.04'), Synset('well.r.05'), Synset('well.r.06'), Synset('well.r.07'), Synset('well.r.08'), Synset('well.r.09'), Synset('well.r.10'), Synset('well.r.11'), Synset('well.r.12'), Synset('well.r.13')], 'shuffled': [Synset('shuffle.v.01'), Synset('shuffle.v.02'), Synset('shuffle.v.03')]}, ('quantum', 'isometry', 'groups'): {'quantum': [Synset('quantum.n.01'), Synset('quantum.n.02')], 'isometry': [Synset('isometry.n.01'), Synset('isometry.n.02'), Synset('isometry.n.03'), Synset('isometry.n.04')], 'groups': [Synset('group.n.01'), Synset('group.n.02'), Synset('group.n.03'), Synset('group.v.01'), Synset('group.v.02')]}, ('computation', 'bounding', 'folkman', 'numbers'): {'computation': [Synset('calculation.n.01'), Synset('calculation.n.02')], 'bounding': [Synset('jump.v.01'), Synset('bound.v.02'), Synset('restrict.v.03'), Synset('bounce.v.01')], 'folkman': [], 'numbers': [Synset('numbers.n.01'), Synset('numbers_pool.n.01'), Synset('number.n.01'), Synset('number.n.02'), Synset('act.n.04'), Synset('phone_number.n.01'), Synset('numeral.n.01'), Synset('issue.n.02'), Synset('number.n.07'), Synset('number.n.08'), Synset('number.n.09'), Synset('number.n.10'), Synset('number.n.11'), Synset('total.v.01'), Synset('number.v.02'), Synset('number.v.03'), Synset('count.v.05'), Synset('count.v.01'), Synset('number.v.06')]}, ('church', 'thesis', 'cubical', 'assemblies'): {'church': [Synset('church.n.01'), Synset('church.n.02'), Synset('church_service.n.01'), Synset('church.n.04'), Synset('church.v.01')], 'thesis': [Synset('thesis.n.01'), Synset('dissertation.n.01')], 'cubical': [Synset('cubelike.s.01')], 'assemblies': [Synset('assembly.n.01'), Synset('fabrication.n.04'), Synset('forum.n.02'), Synset('assembly.n.04'), Synset('assembly.n.05'), Synset('assembly.n.06')]}, ('unconstrained', 'church', 'turing', 'thesis', 'cannot', 'possibly', 'true'): {'unconstrained': [Synset('unconstrained.s.01')], 'church': [Synset('church.n.01'), Synset('church.n.02'), Synset('church_service.n.01'), Synset('church.n.04'), Synset('church.v.01')], 'turing': [Synset('turing.n.01')], 'thesis': [Synset('thesis.n.01'), Synset('dissertation.n.01')], 'cannot': [], 'possibly': [Synset('possibly.r.01'), Synset('possibly.r.02')], 'true': [Synset('true.n.01'), Synset('true.v.01'), Synset('true.a.01'), Synset('true.s.02'), Synset('true.s.03'), Synset('truthful.a.01'), Synset('true.s.05'), Synset('dependable.s.02'), Synset('genuine.s.02'), Synset('true.s.08'), Synset('true.s.09'), Synset('true.s.10'), Synset('on-key.s.01'), Synset('true.s.12'), Synset('true.r.01')]}, ('algebraic', 'relaxations', 'hardness', 'results', 'polynomial', 'optimization', 'lyapunov', 'analysis'): {'algebraic': [Synset('algebraic.a.01')], 'relaxations': [Synset('relaxation.n.01'), Synset('relaxation.n.02'), Synset('easiness.n.01'), Synset('relaxation.n.04'), Synset('rest.n.02'), Synset('relaxation.n.06'), Synset('liberalization.n.01')], 'hardness': [Synset('hardness.n.01'), Synset('hardness.n.02'), Synset('unfeelingness.n.01'), Synset('hardness.n.04'), Synset('severity.n.04')], 'results': [Synset('consequence.n.01'), Synset('solution.n.02'), Synset('result.n.03'), Synset('resultant_role.n.01'), Synset('result.v.01'), Synset('leave.v.07'), Synset('result.v.03')], 'polynomial': [Synset('polynomial.n.01'), Synset('polynomial.a.01')], 'optimization': [Synset('optimization.n.01')], 'lyapunov': [], 'analysis': [Synset('analysis.n.01'), Synset('analysis.n.02'), Synset('analysis.n.03'), Synset('analysis.n.04'), Synset('analysis.n.05'), Synset('psychoanalysis.n.01')]}, ('resolving', 'complexity', 'fundamental', 'problems', 'computational', 'social', 'choice'): {'resolving': [Synset('resolution.n.06'), Synset('decide.v.02'), Synset('conclude.v.03'), Synset('purpose.v.02'), Synset('answer.v.04'), Synset('resolve.v.05'), Synset('resolve.v.06'), Synset('dissolve.v.02')], 'complexity': [Synset('complexity.n.01')], 'fundamental': [Synset('fundamental.n.01'), Synset('fundamental.n.02'), Synset('cardinal.s.01'), Synset('fundamental.s.02'), Synset('fundamental.s.03')], 'problems': [Synset('problem.n.01'), Synset('problem.n.02'), Synset('trouble.n.01')], 'computational': [Synset('computational.a.01')], 'social': [Synset('sociable.n.01'), Synset('social.a.01'), Synset('social.a.02'), Synset('social.a.03'), Synset('social.s.04'), Synset('social.s.05'), Synset('social.s.06')], 'choice': [Synset('choice.n.01'), Synset('choice.n.02'), Synset('option.n.02'), Synset('choice.s.01'), Synset('choice.s.02')]}, ('pa', 'instantiationally', 'complete', 'algorithmically', 'incomplete', 'alternative', 'interpretation', 'goedelian', 'incompleteness', 'church', 'thesis', 'links', 'formal', 'logic', 'computability'): {'pa': [Synset('dad.n.01'), Synset('protactinium.n.01'), Synset('pascal.n.01'), Synset('pennsylvania.n.01'), Synset('public_address_system.n.01')], 'instantiationally': [], 'complete': [Synset('complete.v.01'), Synset('complete.v.02'), Synset('dispatch.v.02'), Synset('complete.v.04'), Synset('complete.v.05'), Synset('complete.a.01'), Synset('complete.s.02'), Synset('accomplished.s.01'), Synset('arrant.s.01'), Synset('complete.s.05')], 'algorithmically': [], 'incomplete': [Synset('incomplete.a.01'), Synset('incomplete.s.02')], 'alternative': [Synset('option.n.02'), Synset('alternate.s.02'), Synset('alternative.s.02'), Synset('alternative.s.03')], 'interpretation': [Synset('interpretation.n.01'), Synset('rendition.n.04'), Synset('interpretation.n.03'), Synset('interpretation.n.04')], 'goedelian': [], 'incompleteness': [Synset('incompleteness.n.01')], 'church': [Synset('church.n.01'), Synset('church.n.02'), Synset('church_service.n.01'), Synset('church.n.04'), Synset('church.v.01')], 'thesis': [Synset('thesis.n.01'), Synset('dissertation.n.01')], 'links': [Synset('links.n.01'), Synset('link.n.01'), Synset('link.n.02'), Synset('connection.n.02'), Synset('connection.n.06'), Synset('link.n.05'), Synset('link.n.06'), Synset('liaison.n.02'), Synset('radio_link.n.01'), Synset('link.n.09'), Synset('associate.v.01'), Synset('connect.v.01'), Synset('connect.v.03'), Synset('yoke.v.02')], 'formal': [Synset('ball.n.09'), Synset('dinner_dress.n.01'), Synset('formal.a.01'), Synset('formal.s.02'), Synset('formal.a.03'), Synset('conventional.s.05'), Synset('formal.s.05'), Synset('courtly.s.01')], 'logic': [Synset('logic.n.01'), Synset('logic.n.02'), Synset('logic.n.03'), Synset('logic.n.04'), Synset('logic.n.05')], 'computability': []}, ('numerical', 'modeling', 'fluid', 'flow', 'porous', 'media', 'modelowanie', 'numeryczne', 'transportu', 'plynow', 'przez', 'osrodki', 'porowate'): {'numerical': [Synset('numeric.s.02'), Synset('numeral.a.01'), Synset('numerical.a.03')], 'modeling': [Synset('mold.n.08'), Synset('modeling.n.02'), Synset('model.n.09'), Synset('model.v.01'), Synset('model.v.02'), Synset('model.v.03'), Synset('model.v.04'), Synset('model.v.05'), Synset('model.v.06')], 'fluid': [Synset('fluid.n.01'), Synset('fluid.n.02'), Synset('fluid.s.01'), Synset('fluid.s.02'), Synset('fluent.s.01'), Synset('fluid.s.04'), Synset('fluid.s.05')], 'flow': [Synset('flow.n.01'), Synset('flow.n.02'), Synset('flow.n.03'), Synset('flow.n.04'), Synset('stream.n.04'), Synset('stream.n.02'), Synset('menstruation.n.01'), Synset('flow.v.01'), Synset('run.v.06'), Synset('flow.v.03'), Synset('flow.v.04'), Synset('hang.v.05'), Synset('flow.v.06'), Synset('menstruate.v.01')], 'porous': [Synset('porous.s.01'), Synset('porous.a.02'), Synset('holey.s.01')], 'media': [Synset('medium.n.01'), Synset('medium.n.02'), Synset('medium.n.03'), Synset('culture_medium.n.01'), Synset('medium.n.05'), Synset('medium.n.06'), Synset('medium.n.07'), Synset('medium.n.08'), Synset('medium.n.09'), Synset('medium.n.10'), Synset('metier.n.02')], 'modelowanie': [], 'numeryczne': [], 'transportu': [], 'plynow': [], 'przez': [], 'osrodki': [], 'porowate': []}, ('threebranes', 'theory'): {'threebranes': [], 'theory': [Synset('theory.n.01'), Synset('hypothesis.n.02'), Synset('theory.n.03')]}, ('spin', 'torque', 'nano', 'oscillators', 'memristors', 'multi', 'functional', 'nanodevices', 'advanced', 'computing'): {'spin': [Synset('spin.n.01'), Synset('spin.n.02'), Synset('spin.n.03'), Synset('tailspin.n.02'), Synset('spin.n.05'), Synset('spin.v.01'), Synset('spin.v.02'), Synset('whirl.v.02'), Synset('spin.v.04'), Synset('spin.v.05'), Synset('spin.v.06'), Synset('spin.v.07'), Synset('spin.v.08')], 'torque': [Synset('torsion.n.02')], 'nano': [], 'oscillators': [Synset('oscillator.n.01')], 'memristors': [], 'multi': [], 'functional': [Synset('functional.a.01'), Synset('functional.a.02'), Synset('functional.a.03'), Synset('functional.s.04'), Synset('functional.s.05'), Synset('running.s.06')], 'nanodevices': [], 'advanced': [Synset('advance.v.01'), Synset('advance.v.02'), Synset('boost.v.04'), Synset('promote.v.01'), Synset('advance.v.05'), Synset('gain.v.05'), Synset('progress.v.01'), Synset('advance.v.08'), Synset('promote.v.02'), Synset('advance.v.10'), Synset('advance.v.11'), Synset('advance.v.12'), Synset('advanced.s.01'), Synset('advanced.s.02'), Synset('advanced.s.03'), Synset('advanced.s.04'), Synset('advanced.s.05'), Synset('advanced.s.06'), Synset('advanced.s.07'), Synset('advance.s.02')], 'computing': [Synset('computer_science.n.01'), Synset('calculation.n.01'), Synset('calculate.v.01')]}, ('effectuses', 'categorical', 'quantum', 'foundations'): {'effectuses': [], 'categorical': [Synset('categorical.a.01'), Synset('categoric.s.02')], 'quantum': [Synset('quantum.n.01'), Synset('quantum.n.02')], 'foundations': [Synset('foundation.n.01'), Synset('foundation.n.02'), Synset('foundation.n.03'), Synset('foundation.n.04'), Synset('basis.n.02'), Synset('foundation_garment.n.01'), Synset('initiation.n.02')]}, ('hypercomputation', 'towards', 'extension', 'classical', 'notion', 'computability'): {'hypercomputation': [], 'towards': [], 'extension': [Synset('extension.n.01'), Synset('extension.n.02'), Synset('propagation.n.01'), Synset('extension.n.04'), Synset('extension.n.05'), Synset('extension.n.06'), Synset('reference.n.06'), Synset('extension.n.08'), Synset('extension.n.09'), Synset('extension.n.10'), Synset('elongation.n.02'), Synset('annex.n.01')], 'classical': [Synset('classical_music.n.01'), Synset('classical.a.01'), Synset('authoritative.s.02'), Synset('classical.a.03'), Synset('classical.s.04'), Synset('classical.s.05')], 'notion': [Synset('impression.n.01'), Synset('notion.n.02'), Synset('notion.n.03'), Synset('notion.n.04')], 'computability': []}, ('estimation', 'use', 'statistical', 'modelling', 'information', 'retrieval'): {'estimation': [Synset('appraisal.n.02'), Synset('estimate.n.05'), Synset('estimate.n.01'), Synset('estimate.n.02')], 'use': [Synset('use.n.01'), Synset('function.n.02'), Synset('use.n.03'), Synset('consumption.n.03'), Synset('habit.n.02'), Synset('manipulation.n.01'), Synset('use.n.07'), Synset('use.v.01'), Synset('use.v.02'), Synset('use.v.03'), Synset('use.v.04'), Synset('practice.v.04'), Synset('use.v.06')], 'statistical': [Synset('statistical.a.01')], 'modelling': [Synset('modeling.n.02'), Synset('model.n.09'), Synset('model.v.01'), Synset('model.v.02'), Synset('model.v.03'), Synset('model.v.04'), Synset('model.v.05'), Synset('model.v.06')], 'information': [Synset('information.n.01'), Synset('information.n.02'), Synset('information.n.03'), Synset('data.n.01'), Synset('information.n.05')], 'retrieval': [Synset('retrieval.n.01'), Synset('retrieval.n.02'), Synset('recovery.n.03')]}, ('combinatorial', 'koszul', 'homology', 'computations', 'applications'): {'combinatorial': [Synset('combinative.s.02'), Synset('combinatorial.s.02')], 'koszul': [], 'homology': [Synset('homology.n.01')], 'computations': [Synset('calculation.n.01'), Synset('calculation.n.02')], 'applications': [Synset('application.n.01'), Synset('application.n.02'), Synset('application.n.03'), Synset('application.n.04'), Synset('lotion.n.02'), Synset('application.n.06'), Synset('application.n.07')]}, ('effective', 'banach', 'spaces'): {'effective': [Synset('effective.a.01'), Synset('effective.s.02'), Synset('effective.s.03'), Synset('effective.s.04'), Synset('effective.s.05'), Synset('effective.s.06')], 'banach': [], 'spaces': [Synset('space.n.01'), Synset('space.n.02'), Synset('space.n.03'), Synset('outer_space.n.01'), Synset('space.n.05'), Synset('distance.n.05'), Synset('space.n.07'), Synset('space.n.08'), Synset('quad.n.03'), Synset('space.v.01')]}, ('computing',): {'computing': [Synset('computer_science.n.01'), Synset('calculation.n.01'), Synset('calculate.v.01')]}, ('first', 'principles', 'study', 'intein', 'reaction', 'mechanisms'): {'first': [Synset('first.n.01'), Synset('first.n.02'), Synset('beginning.n.02'), Synset('first_base.n.02'), Synset('first.n.05'), Synset('first_gear.n.01'), Synset('first.a.01'), Synset('first.s.02'), Synset('inaugural.s.02'), Synset('beginning.s.01'), Synset('first.s.05'), Synset('first.a.06'), Synset('first.r.01'), Synset('first.r.02'), Synset('first.r.03'), Synset('foremost.r.01')], 'principles': [Synset('principle.n.01'), Synset('principle.n.02'), Synset('principle.n.03'), Synset('principle.n.04'), Synset('principle.n.05'), Synset('rationale.n.01')], 'study': [Synset('survey.n.01'), Synset('study.n.02'), Synset('report.n.01'), Synset('study.n.04'), Synset('study.n.05'), Synset('discipline.n.01'), Synset('sketch.n.01'), Synset('cogitation.n.02'), Synset('study.n.09'), Synset('study.n.10'), Synset('analyze.v.01'), Synset('study.v.02'), Synset('study.v.03'), Synset('learn.v.04'), Synset('study.v.05'), Synset('study.v.06')], 'intein': [], 'reaction': [Synset('chemical_reaction.n.01'), Synset('reaction.n.02'), Synset('reaction.n.03'), Synset('reaction.n.04'), Synset('reaction.n.05'), Synset('reaction.n.06'), Synset('reaction.n.07')], 'mechanisms': [Synset('mechanism.n.01'), Synset('mechanism.n.02'), Synset('mechanism.n.03'), Synset('mechanism.n.04'), Synset('mechanism.n.05')]}, ('guarding', 'searching', 'polyhedra'): {'guarding': [Synset('guard.v.01'), Synset('guard.v.02'), Synset('defend.v.03'), Synset('guard.v.04')], 'searching': [Synset('search.v.01'), Synset('search.v.02'), Synset('research.v.02'), Synset('search.v.04'), Synset('inquisitory.s.01'), Synset('searching.s.02'), Synset('searching.s.03')], 'polyhedra': [Synset('polyhedron.n.01')]}, ('adaptation', 'self', 'organization', 'evolutionary', 'algorithms'): {'adaptation': [Synset('adaptation.n.01'), Synset('adaptation.n.02'), Synset('adaptation.n.03')], 'self': [Synset('self.n.01'), Synset('self.n.02'), Synset('self.a.01')], 'organization': [Synset('organization.n.01'), Synset('arrangement.n.03'), Synset('administration.n.02'), Synset('organization.n.04'), Synset('organization.n.05'), Synset('organization.n.06'), Synset('constitution.n.02')], 'evolutionary': [Synset('evolutionary.a.01')], 'algorithms': [Synset('algorithm.n.01')]}}\n"
     ]
    }
   ],
   "source": [
    "titles = list(df['title'].apply(\n",
    "    lambda t : \n",
    "        tuple(\n",
    "            filter(lambda e:not e in stopwords.words('english'),\n",
    "                map(lambda e:e.lower(),\n",
    "                       re.findall('([A-Z]{1}[a-z]+)',t.replace('.pdf','')))\n",
    "                )\n",
    "            )\n",
    "        )\n",
    "    )\n",
    "\n",
    "res = {}\n",
    "for title in titles[:20]:\n",
    "    synsets = {}\n",
    "    for word in title:\n",
    "        synsets[word]=[synset for synset in wn.synsets(word)]\n",
    "    res[title] = synsets\n",
    "print(res)"
   ]
  },
  {
   "cell_type": "code",
   "execution_count": 9,
   "metadata": {},
   "outputs": [],
   "source": [
    "def GetHprnms2(snst):\n",
    "    hprnms1 = set()\n",
    "    hprnms2 = set()\n",
    "    lvl_cnt = 1\n",
    "    while lvl_cnt < 3:\n",
    "        snst = snst.hypernyms()[0]\n",
    "#         print('snst = snst.hypernyms()[0]', snst)\n",
    "        if(lvl_cnt == 1):\n",
    "            hprnms1.add(snst)\n",
    "#             print('hprnms1.add(snst)', snst)\n",
    "        elif(lvl_cnt == 2):\n",
    "            hprnms2.add(snst)\n",
    "#             print('hprnms2.add(snst)', snst,'\\n')\n",
    "        lvl_cnt += 1\n",
    "    return hprnms1, hprnms2\n",
    "\n",
    "def ExtractHprnmsEng(a):\n",
    "    hprnms1_eng = set()\n",
    "    hprnms2_eng = set()\n",
    "    for wrd in a:\n",
    "        try:\n",
    "            wrd_snst = wn.synsets(wrd)[0]\n",
    "            hrnms_buff = GetHprnms2(wrd_snst)\n",
    "#             print('hrnms_buff', hrnms_buff)\n",
    "#             print('hrnms_buff[0]', hrnms_buff[0])\n",
    "#             print('hrnms_buff[1]', hrnms_buff[1])\n",
    "            hprnms1_eng = hrnms_buff[0]\n",
    "#             print('hprnms1_eng', hprnms1_eng)\n",
    "            hprnms2_eng = hrnms_buff[1]\n",
    "#             print('hprnms2_eng', hprnms2_eng, '\\n')\n",
    "        except IndexError:\n",
    "            continue\n",
    "    return hprnms1_eng, hprnms2_eng\n",
    "\n",
    "def F1Measure(a, b):\n",
    "    a = set(a)\n",
    "    b = set(b)\n",
    "    overlap = set()\n",
    "    overlap_hyp_cnt = 0\n",
    "    overlap = a.intersection(b)\n",
    "    overlap_hyp_cnt = len(overlap) \n",
    "    recall = overlap_hyp_cnt/len(a)\n",
    "    precision = overlap_hyp_cnt/len(b)\n",
    "    if len(overlap) == 0:\n",
    "        return 0, overlap\n",
    "    else:\n",
    "        return 2*recall*precision/(recall+precision), overlap\n",
    "    \n",
    "lang = 'eng'\n",
    "\n",
    "def distance(a, b):\n",
    "    overlap_hyp_cnt = 0\n",
    "    a = set(a) \n",
    "    b = set(b) \n",
    "    f1score, overlap = F1Measure(a, b)\n",
    "    a = a - overlap\n",
    "    b = b - overlap\n",
    "    if len(a) == 0 or len(b) == 0:\n",
    "        return 1.0 - f1score\n",
    "    buff1_a = {}\n",
    "    buff2_a = {}\n",
    "    buff1_b = {}\n",
    "    buff2_b = {}\n",
    "    if lang == 'eng':\n",
    "        buff1_a, buff2_a = ExtractHprnmsEng(a)\n",
    "#         print('buff_a ', buff1_a, 'buff2_a ', buff2_a)\n",
    "        buff1_b, buff2_b = ExtractHprnmsEng(b)\n",
    "#         print('')\n",
    "#         print('len(buff_a) ', len(buff_a))\n",
    "#         print('len(buff_b) ', len(buff_b))\n",
    "    if len(buff1_a.intersection(buff1_b)) > 0:\n",
    "#         print('len(buff_a.intersection(buff_b))', len(buff_a.intersection(buff_b)), '\\n')\n",
    "        overlap_hyp_cnt += 1\n",
    "#         print('overlap_hyp_cnt ', overlap_hyp_cnt, '\\n')\n",
    "    if len(buff2_a.intersection(buff2_b)) > 0:\n",
    "        overlap_hyp_cnt += 0.5\n",
    "    recall = overlap_hyp_cnt/len(a)\n",
    "#     print('recall', recall)\n",
    "    precision = overlap_hyp_cnt/len(b)\n",
    "#     print('precision', precision, '\\n')\n",
    "    f1score_hyp = 2*recall/(recall + precision) if overlap_hyp_cnt > 0 else 0\n",
    "    f1res = (2*f1score+f1score_hyp)/3\n",
    "    return (1.0 - f1res)"
   ]
  },
  {
   "cell_type": "code",
   "execution_count": 10,
   "metadata": {},
   "outputs": [
    {
     "data": {
      "text/plain": [
       "array([[0.        , 1.        , 1.        , 1.        , 1.        ,\n",
       "        1.        , 1.        , 1.        , 1.        , 1.        ,\n",
       "        1.        , 1.        , 1.        , 1.        , 1.        ,\n",
       "        1.        , 1.        , 1.        , 1.        , 1.        ],\n",
       "       [1.        , 0.        , 1.        , 1.        , 1.        ,\n",
       "        1.        , 1.        , 1.        , 1.        , 1.        ,\n",
       "        1.        , 0.80952381, 1.        , 1.        , 1.        ,\n",
       "        1.        , 1.        , 1.        , 1.        , 1.        ],\n",
       "       [1.        , 1.        , 0.        , 1.        , 1.        ,\n",
       "        1.        , 1.        , 1.        , 1.        , 1.        ,\n",
       "        1.        , 1.        , 1.        , 1.        , 0.62962963,\n",
       "        1.        , 1.        , 1.        , 1.        , 1.        ],\n",
       "       [1.        , 1.        , 1.        , 0.        , 0.75757576,\n",
       "        1.        , 1.        , 0.85964912, 1.        , 1.        ,\n",
       "        1.        , 1.        , 1.        , 1.        , 1.        ,\n",
       "        1.        , 1.        , 1.        , 1.        , 1.        ],\n",
       "       [1.        , 1.        , 1.        , 0.75757576, 0.        ,\n",
       "        1.        , 1.        , 0.87878788, 1.        , 1.        ,\n",
       "        1.        , 1.        , 1.        , 1.        , 1.        ,\n",
       "        1.        , 1.        , 1.        , 1.        , 1.        ],\n",
       "       [1.        , 1.        , 1.        , 1.        , 1.        ,\n",
       "        0.        , 1.        , 1.        , 1.        , 1.        ,\n",
       "        1.        , 1.        , 1.        , 1.        , 1.        ,\n",
       "        1.        , 1.        , 1.        , 1.        , 1.        ],\n",
       "       [1.        , 1.        , 1.        , 1.        , 1.        ,\n",
       "        1.        , 0.        , 1.        , 1.        , 1.        ,\n",
       "        1.        , 1.        , 1.        , 1.        , 1.        ,\n",
       "        1.        , 1.        , 1.        , 1.        , 1.        ],\n",
       "       [1.        , 1.        , 1.        , 0.85964912, 0.87878788,\n",
       "        1.        , 1.        , 0.        , 1.        , 1.        ,\n",
       "        1.        , 1.        , 0.93650794, 1.        , 1.        ,\n",
       "        1.        , 1.        , 1.        , 1.        , 1.        ],\n",
       "       [1.        , 1.        , 1.        , 1.        , 1.        ,\n",
       "        1.        , 1.        , 1.        , 0.        , 1.        ,\n",
       "        1.        , 1.        , 1.        , 1.        , 1.        ,\n",
       "        1.        , 1.        , 1.        , 1.        , 1.        ],\n",
       "       [1.        , 1.        , 1.        , 1.        , 1.        ,\n",
       "        1.        , 1.        , 1.        , 1.        , 0.        ,\n",
       "        1.        , 1.        , 1.        , 1.        , 1.        ,\n",
       "        1.        , 1.        , 1.        , 1.        , 1.        ],\n",
       "       [1.        , 1.        , 1.        , 1.        , 1.        ,\n",
       "        1.        , 1.        , 1.        , 1.        , 1.        ,\n",
       "        0.        , 1.        , 1.        , 1.        , 1.        ,\n",
       "        1.        , 0.81818182, 1.        , 1.        , 1.        ],\n",
       "       [1.        , 0.80952381, 1.        , 1.        , 1.        ,\n",
       "        1.        , 1.        , 1.        , 1.        , 1.        ,\n",
       "        1.        , 0.        , 1.        , 1.        , 1.        ,\n",
       "        0.71428571, 1.        , 1.        , 1.        , 1.        ],\n",
       "       [1.        , 1.        , 1.        , 1.        , 1.        ,\n",
       "        1.        , 1.        , 0.93650794, 1.        , 1.        ,\n",
       "        1.        , 1.        , 0.        , 1.        , 1.        ,\n",
       "        1.        , 1.        , 1.        , 1.        , 1.        ],\n",
       "       [1.        , 1.        , 1.        , 1.        , 1.        ,\n",
       "        1.        , 1.        , 1.        , 1.        , 1.        ,\n",
       "        1.        , 1.        , 1.        , 0.        , 1.        ,\n",
       "        1.        , 1.        , 1.        , 1.        , 1.        ],\n",
       "       [1.        , 1.        , 0.7037037 , 1.        , 1.        ,\n",
       "        1.        , 1.        , 1.        , 1.        , 1.        ,\n",
       "        1.        , 1.        , 1.        , 1.        , 0.        ,\n",
       "        1.        , 1.        , 1.        , 1.        , 1.        ],\n",
       "       [1.        , 1.        , 1.        , 1.        , 1.        ,\n",
       "        1.        , 1.        , 1.        , 1.        , 1.        ,\n",
       "        1.        , 0.61904762, 1.        , 1.        , 1.        ,\n",
       "        0.        , 1.        , 1.        , 1.        , 1.        ],\n",
       "       [1.        , 1.        , 1.        , 1.        , 1.        ,\n",
       "        1.        , 1.        , 1.        , 1.        , 1.        ,\n",
       "        0.81818182, 1.        , 1.        , 1.        , 1.        ,\n",
       "        1.        , 0.        , 1.        , 1.        , 1.        ],\n",
       "       [1.        , 1.        , 1.        , 1.        , 1.        ,\n",
       "        1.        , 1.        , 1.        , 1.        , 1.        ,\n",
       "        1.        , 1.        , 1.        , 1.        , 1.        ,\n",
       "        1.        , 1.        , 0.        , 1.        , 1.        ],\n",
       "       [1.        , 1.        , 1.        , 1.        , 1.        ,\n",
       "        1.        , 1.        , 1.        , 1.        , 1.        ,\n",
       "        1.        , 1.        , 1.        , 1.        , 1.        ,\n",
       "        1.        , 1.        , 1.        , 0.        , 1.        ],\n",
       "       [1.        , 1.        , 1.        , 1.        , 1.        ,\n",
       "        1.        , 1.        , 1.        , 1.        , 1.        ,\n",
       "        1.        , 1.        , 1.        , 1.        , 1.        ,\n",
       "        1.        , 1.        , 1.        , 1.        , 0.        ]])"
      ]
     },
     "execution_count": 10,
     "metadata": {},
     "output_type": "execute_result"
    }
   ],
   "source": [
    "buff = list(res.items())\n",
    "dist = np.zeros((len(buff),len(buff)))\n",
    "for lli,ll in enumerate(buff):\n",
    "    for rri,rr in enumerate(buff):\n",
    "        dist[lli,rri] = distance(ll[0],rr[0])\n",
    "#         print('(ll[0],rr[0]) ', (ll[0],rr[0]), '\\n')\n",
    "dist"
   ]
  },
  {
   "cell_type": "markdown",
   "metadata": {
    "colab_type": "text",
    "id": "sVW9NVFmC3rR"
   },
   "source": [
    "#### Top ten closest articles with fuzzy metrics of titles"
   ]
  },
  {
   "cell_type": "code",
   "execution_count": 11,
   "metadata": {
    "colab": {
     "referenced_widgets": [
      "b06d56940d7a4b33b49ac122f8055d9d"
     ]
    },
    "colab_type": "code",
    "id": "PJfKkP_sC3rS",
    "outputId": "e3ddbefa-ea40-4464-f87b-45690e241fce"
   },
   "outputs": [
    {
     "data": {
      "application/vnd.jupyter.widget-view+json": {
       "model_id": "5a5bd31408524263aa5a5e279135e19f",
       "version_major": 2,
       "version_minor": 0
      },
      "text/plain": [
       "interactive(children=(IntSlider(value=0, description='ind', max=19), Output()), _dom_classes=('widget-interact…"
      ]
     },
     "metadata": {},
     "output_type": "display_data"
    }
   ],
   "source": [
    "@interact(ind=(0,len(buff)-1,1))\n",
    "def h(ind=0):\n",
    "    pp = pprint.PrettyPrinter(indent=4)\n",
    "    print(' '.join(buff[ind][0]))\n",
    "    pp.pprint([buff[i][0] for i in dist[ind][:].argsort()[1:11]])"
   ]
  },
  {
   "cell_type": "code",
   "execution_count": 12,
   "metadata": {
    "colab": {
     "referenced_widgets": [
      "fd9b9f3aff4a4b518fb0345303c63386"
     ]
    },
    "colab_type": "code",
    "id": "hQ3fW1fSC3rU",
    "outputId": "af83791b-ef9e-4c5a-bf6a-a1be03881661"
   },
   "outputs": [
    {
     "data": {
      "application/vnd.jupyter.widget-view+json": {
       "model_id": "bb4e61ff2b00454db762fd929227a554",
       "version_major": 2,
       "version_minor": 0
      },
      "text/plain": [
       "interactive(children=(IntSlider(value=0, description='ind', max=19), Output()), _dom_classes=('widget-interact…"
      ]
     },
     "metadata": {},
     "output_type": "display_data"
    }
   ],
   "source": [
    "@interact(ind=(0,len(buff)-1,1))\n",
    "def hypernyms(ind=0):\n",
    "    pp = pprint.PrettyPrinter(indent=4)\n",
    "    print(' '.join(buff[ind][0]))\n",
    "    pp.pprint(buff[ind][1])"
   ]
  },
  {
   "cell_type": "code",
   "execution_count": null,
   "metadata": {},
   "outputs": [],
   "source": []
  }
 ],
 "metadata": {
  "colab": {
   "name": "HypernymTitles.ipynb",
   "provenance": []
  },
  "kernelspec": {
   "display_name": "Python 3",
   "language": "python",
   "name": "python3"
  },
  "language_info": {
   "codemirror_mode": {
    "name": "ipython",
    "version": 3
   },
   "file_extension": ".py",
   "mimetype": "text/x-python",
   "name": "python",
   "nbconvert_exporter": "python",
   "pygments_lexer": "ipython3",
   "version": "3.7.3"
  }
 },
 "nbformat": 4,
 "nbformat_minor": 1
}
