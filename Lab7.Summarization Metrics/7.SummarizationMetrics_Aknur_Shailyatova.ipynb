{
 "cells": [
  {
   "cell_type": "markdown",
   "metadata": {
    "colab_type": "text",
    "id": "hMo3kj3LC3rA"
   },
   "source": [
    "#### Lab 7 \n",
    "#### Rouge Metrics"
   ]
  },
  {
   "cell_type": "code",
   "execution_count": 1,
   "metadata": {
    "colab": {},
    "colab_type": "code",
    "id": "obigo_n1C3rB",
    "outputId": "5a52f044-6ee2-4495-d030-b5253dbfd1db"
   },
   "outputs": [],
   "source": [
    "import pandas as pd\n",
    "from nltk.corpus import stopwords\n",
    "from nltk.corpus import wordnet as wn\n",
    "import numpy as np\n",
    "from fuzzywuzzy import fuzz \n",
    "import ipywidgets as widgets\n",
    "import pprint\n",
    "from ipywidgets import interact, interact_manual\n",
    "import re\n",
    "__PATH__ = \"./data.csv\"\n",
    "df = pd.read_csv(__PATH__,sep=\";\",header=0)"
   ]
  },
  {
   "cell_type": "markdown",
   "metadata": {
    "colab_type": "text",
    "id": "XG1xtU4xC3rK"
   },
   "source": [
    "#### Preprocessing the title to list of tokens"
   ]
  },
  {
   "cell_type": "code",
   "execution_count": 9,
   "metadata": {
    "colab": {},
    "colab_type": "code",
    "id": "iRgalGvEC3rL"
   },
   "outputs": [
    {
     "name": "stdout",
     "output_type": "stream",
     "text": [
      "{('much', 'card', 'deck', 'well', 'shuffled'): {'much': [Synset('much.n.01'), Synset('much.a.01'), Synset('much.r.01'), Synset('much.r.02'), Synset('a_lot.r.01'), Synset('much.r.04'), Synset('much.r.05')], 'card': [Synset('card.n.01'), Synset('card.n.02'), Synset('card.n.03'), Synset('card.n.04'), Synset('wag.n.01'), Synset('poster.n.01'), Synset('calling_card.n.02'), Synset('card.n.08'), Synset('menu.n.01'), Synset('batting_order.n.01'), Synset('circuit_board.n.01'), Synset('tease.v.07'), Synset('card.v.02')], 'deck': [Synset('deck.n.01'), Synset('deck.n.02'), Synset('pack_of_cards.n.01'), Synset('deck.n.04'), Synset('deck.v.01'), Synset('deck.v.02'), Synset('deck.v.03')], 'well': [Synset('well.n.01'), Synset('well.n.02'), Synset('well.n.03'), Synset('well.n.04'), Synset('well.n.05'), Synset('well.v.01'), Synset('well.a.01'), Synset('good.s.13'), Synset('well.s.03'), Synset('well.r.01'), Synset('well.r.02'), Synset('well.r.03'), Synset('well.r.04'), Synset('well.r.05'), Synset('well.r.06'), Synset('well.r.07'), Synset('well.r.08'), Synset('well.r.09'), Synset('well.r.10'), Synset('well.r.11'), Synset('well.r.12'), Synset('well.r.13')], 'shuffled': [Synset('shuffle.v.01'), Synset('shuffle.v.02'), Synset('shuffle.v.03')]}, ('quantum', 'isometry', 'groups'): {'quantum': [Synset('quantum.n.01'), Synset('quantum.n.02')], 'isometry': [Synset('isometry.n.01'), Synset('isometry.n.02'), Synset('isometry.n.03'), Synset('isometry.n.04')], 'groups': [Synset('group.n.01'), Synset('group.n.02'), Synset('group.n.03'), Synset('group.v.01'), Synset('group.v.02')]}, ('computation', 'bounding', 'folkman', 'numbers'): {'computation': [Synset('calculation.n.01'), Synset('calculation.n.02')], 'bounding': [Synset('jump.v.01'), Synset('bound.v.02'), Synset('restrict.v.03'), Synset('bounce.v.01')], 'folkman': [], 'numbers': [Synset('numbers.n.01'), Synset('numbers_pool.n.01'), Synset('number.n.01'), Synset('number.n.02'), Synset('act.n.04'), Synset('phone_number.n.01'), Synset('numeral.n.01'), Synset('issue.n.02'), Synset('number.n.07'), Synset('number.n.08'), Synset('number.n.09'), Synset('number.n.10'), Synset('number.n.11'), Synset('total.v.01'), Synset('number.v.02'), Synset('number.v.03'), Synset('count.v.05'), Synset('count.v.01'), Synset('number.v.06')]}, ('church', 'thesis', 'cubical', 'assemblies'): {'church': [Synset('church.n.01'), Synset('church.n.02'), Synset('church_service.n.01'), Synset('church.n.04'), Synset('church.v.01')], 'thesis': [Synset('thesis.n.01'), Synset('dissertation.n.01')], 'cubical': [Synset('cubelike.s.01')], 'assemblies': [Synset('assembly.n.01'), Synset('fabrication.n.04'), Synset('forum.n.02'), Synset('assembly.n.04'), Synset('assembly.n.05'), Synset('assembly.n.06')]}, ('unconstrained', 'church', 'turing', 'thesis', 'cannot', 'possibly', 'true'): {'unconstrained': [Synset('unconstrained.s.01')], 'church': [Synset('church.n.01'), Synset('church.n.02'), Synset('church_service.n.01'), Synset('church.n.04'), Synset('church.v.01')], 'turing': [Synset('turing.n.01')], 'thesis': [Synset('thesis.n.01'), Synset('dissertation.n.01')], 'cannot': [], 'possibly': [Synset('possibly.r.01'), Synset('possibly.r.02')], 'true': [Synset('true.n.01'), Synset('true.v.01'), Synset('true.a.01'), Synset('true.s.02'), Synset('true.s.03'), Synset('truthful.a.01'), Synset('true.s.05'), Synset('dependable.s.02'), Synset('genuine.s.02'), Synset('true.s.08'), Synset('true.s.09'), Synset('true.s.10'), Synset('on-key.s.01'), Synset('true.s.12'), Synset('true.r.01')]}}\n"
     ]
    }
   ],
   "source": [
    "titles = list(df['title'].apply(\n",
    "    lambda t : \n",
    "        tuple(\n",
    "            filter(lambda e:not e in stopwords.words('english'),\n",
    "                map(lambda e:e.lower(),\n",
    "                       re.findall('([A-Z]{1}[a-z]+)',t.replace('.pdf','')))\n",
    "                )\n",
    "            )\n",
    "        )\n",
    "    )\n",
    "\n",
    "res = {}\n",
    "for title in titles[:5]:\n",
    "    synsets = {}\n",
    "    for word in title:\n",
    "        synsets[word]=[synset for synset in wn.synsets(word)]\n",
    "    res[title] = synsets\n",
    "print(res)"
   ]
  },
  {
   "cell_type": "code",
   "execution_count": 83,
   "metadata": {},
   "outputs": [],
   "source": [
    "def GetHprnms2(snst):\n",
    "#     hprnms = dict()\n",
    "#     lvl_cnt = 1\n",
    "#     while lvl_cnt < 3:\n",
    "#         try:\n",
    "#             snst = snst.hypernyms()[0]\n",
    "#             hprnms[lvl_cnt] = snst \n",
    "#             lvl_cnt += 1\n",
    "#         except IndexError:\n",
    "#             break\n",
    "#     return hprnms\n",
    "\n",
    "    hprnms1 = set()\n",
    "    hprnms2 = set()\n",
    "    lvl_cnt = 1\n",
    "    while lvl_cnt < 3:\n",
    "        snst = snst.hypernyms()[0]\n",
    "#         print('snst = snst.hypernyms()[0]', snst)\n",
    "        if(lvl_cnt == 1):\n",
    "            hprnms1.add(snst)\n",
    "#             print('hprnms1.add(snst)', snst)\n",
    "        elif(lvl_cnt == 2):\n",
    "            hprnms2.add(snst)\n",
    "#             print('hprnms2.add(snst)', snst,'\\n')\n",
    "        lvl_cnt += 1\n",
    "    return hprnms1, hprnms2\n",
    "\n",
    "# def GetHprnms(snst):\n",
    "#     hprnms = set()\n",
    "#     while True:\n",
    "#         try:\n",
    "#             snst = snst.hypernyms()[-1]\n",
    "#             hprnms.add(snst)\n",
    "#         except IndexError:\n",
    "#             break\n",
    "#     return hprnms\n",
    "\n",
    "def ExtractHprnmsEng(a):\n",
    "    hprnms1_eng = set()\n",
    "    hprnms2_eng = set()\n",
    "    for wrd in a:\n",
    "        try:\n",
    "            wrd_snst = wn.synsets(wrd)[0]\n",
    "            hrnms_buff = GetHprnms2(wrd_snst)\n",
    "#             print('hrnms_buff', hrnms_buff)\n",
    "#             print('hrnms_buff[0]', hrnms_buff[0])\n",
    "#             print('hrnms_buff[1]', hrnms_buff[1])\n",
    "            hprnms1_eng = hrnms_buff[0]\n",
    "#             print('hprnms1_eng', hprnms1_eng)\n",
    "            hprnms2_eng = hrnms_buff[1]\n",
    "#             print('hprnms2_eng', hprnms2_eng, '\\n')\n",
    "        except IndexError:\n",
    "            continue\n",
    "    return hprnms1_eng, hprnms2_eng\n",
    "\n",
    "# def ExtractHprnmsEng(a):\n",
    "#     hprnms_eng = set()\n",
    "#     for wrd in a:\n",
    "#         try:\n",
    "#             wrd_snst = wn.synsets(wrd)[0]\n",
    "# #             print('wrd_snst', wrd_snst)\n",
    "#             hrnms_buff1, hrnms_buff2 = GetHprnms2(wrd_snst)\n",
    "#             print('hrnms_buff1', hrnms_buff1, 'hrnms_buff2', hrnms_buff2)\n",
    "#             for hprnm in hrnms_buff1:\n",
    "#                 hprnms_eng.add(hprnm)\n",
    "#         except IndexError:\n",
    "#             continue\n",
    "#     return hprnms_eng\n",
    "\n",
    "def F1Measure(a, b):\n",
    "    a = set(a)\n",
    "    b = set(b)\n",
    "    overlap = set()\n",
    "    overlap_hyp_cnt = 0\n",
    "    overlap = a.intersection(b)\n",
    "    overlap_hyp_cnt = len(overlap) \n",
    "    recall = overlap_hyp_cnt/len(a)\n",
    "    precision = overlap_hyp_cnt/len(b)\n",
    "    if len(overlap) == 0:\n",
    "        return 0, overlap\n",
    "    else:\n",
    "        return 2*recall*precision/(recall+precision), overlap\n",
    "    \n",
    "lang = 'eng'\n",
    "\n",
    "def distance(a, b):\n",
    "    overlap_hyp_cnt = 0\n",
    "    a = set(a) \n",
    "    b = set(b) \n",
    "    f1score, overlap = F1Measure(a, b)\n",
    "    a = a - overlap\n",
    "    b = b - overlap\n",
    "    if len(a) == 0 or len(b) == 0:\n",
    "        return 1.0 - f1score\n",
    "    buff1_a = {}\n",
    "    buff2_a = {}\n",
    "    buff1_b = {}\n",
    "    buff2_b = {}\n",
    "    if lang == 'eng':\n",
    "        buff1_a, buff2_a = ExtractHprnmsEng(a)\n",
    "#         print('buff_a ', buff1_a, 'buff2_a ', buff2_a)\n",
    "        buff1_b, buff2_b = ExtractHprnmsEng(b)\n",
    "#         print('')\n",
    "#         print('len(buff_a) ', len(buff_a))\n",
    "#         print('len(buff_b) ', len(buff_b))\n",
    "    if len(buff1_a.intersection(buff1_b)) > 0:\n",
    "#         print('len(buff_a.intersection(buff_b))', len(buff_a.intersection(buff_b)), '\\n')\n",
    "        overlap_hyp_cnt += 1\n",
    "#         print('overlap_hyp_cnt ', overlap_hyp_cnt, '\\n')\n",
    "    if len(buff2_a.intersection(buff2_b)) > 0:\n",
    "        overlap_hyp_cnt += 0.5\n",
    "    recall = overlap_hyp_cnt/len(a)\n",
    "#     print('recall', recall)\n",
    "    precision = overlap_hyp_cnt/len(b)\n",
    "#     print('precision', precision, '\\n')\n",
    "    f1score_hyp = 2*recall/(recall + precision) if overlap_hyp_cnt > 0 else 0\n",
    "    f1res = (2*f1score+f1score_hyp)/3\n",
    "    return (1.0 - f1res)"
   ]
  },
  {
   "cell_type": "code",
   "execution_count": 84,
   "metadata": {},
   "outputs": [
    {
     "data": {
      "text/plain": [
       "array([[0.        , 1.        , 1.        , 1.        , 1.        ],\n",
       "       [1.        , 0.        , 1.        , 1.        , 1.        ],\n",
       "       [1.        , 1.        , 0.        , 1.        , 1.        ],\n",
       "       [1.        , 1.        , 1.        , 0.        , 0.75757576],\n",
       "       [1.        , 1.        , 1.        , 0.75757576, 0.        ]])"
      ]
     },
     "execution_count": 84,
     "metadata": {},
     "output_type": "execute_result"
    }
   ],
   "source": [
    "buff = list(res.items())\n",
    "dist = np.zeros((len(buff),len(buff)))\n",
    "for lli,ll in enumerate(buff):\n",
    "    for rri,rr in enumerate(buff):\n",
    "        dist[lli,rri] = distance(ll[0],rr[0])\n",
    "#         print('(ll[0],rr[0]) ', (ll[0],rr[0]), '\\n')\n",
    "dist"
   ]
  },
  {
   "cell_type": "markdown",
   "metadata": {
    "colab_type": "text",
    "id": "sVW9NVFmC3rR"
   },
   "source": [
    "#### Top ten closest articles with fuzzy metrics of titles"
   ]
  },
  {
   "cell_type": "code",
   "execution_count": 85,
   "metadata": {
    "colab": {
     "referenced_widgets": [
      "b06d56940d7a4b33b49ac122f8055d9d"
     ]
    },
    "colab_type": "code",
    "id": "PJfKkP_sC3rS",
    "outputId": "e3ddbefa-ea40-4464-f87b-45690e241fce"
   },
   "outputs": [
    {
     "data": {
      "application/vnd.jupyter.widget-view+json": {
       "model_id": "2588afcf48944b9ab28957dd659c1954",
       "version_major": 2,
       "version_minor": 0
      },
      "text/plain": [
       "interactive(children=(IntSlider(value=0, description='ind', max=4), Output()), _dom_classes=('widget-interact'…"
      ]
     },
     "metadata": {},
     "output_type": "display_data"
    }
   ],
   "source": [
    "@interact(ind=(0,len(buff)-1,1))\n",
    "def h(ind=0):\n",
    "    pp = pprint.PrettyPrinter(indent=4)\n",
    "    print(' '.join(buff[ind][0]))\n",
    "    pp.pprint([buff[i][0] for i in dist[ind][:].argsort()[1:11]])"
   ]
  },
  {
   "cell_type": "code",
   "execution_count": 86,
   "metadata": {
    "colab": {
     "referenced_widgets": [
      "fd9b9f3aff4a4b518fb0345303c63386"
     ]
    },
    "colab_type": "code",
    "id": "hQ3fW1fSC3rU",
    "outputId": "af83791b-ef9e-4c5a-bf6a-a1be03881661"
   },
   "outputs": [
    {
     "data": {
      "application/vnd.jupyter.widget-view+json": {
       "model_id": "b2e75cd4fe914b8d97a90fd592065355",
       "version_major": 2,
       "version_minor": 0
      },
      "text/plain": [
       "interactive(children=(IntSlider(value=0, description='ind', max=4), Output()), _dom_classes=('widget-interact'…"
      ]
     },
     "metadata": {},
     "output_type": "display_data"
    }
   ],
   "source": [
    "@interact(ind=(0,len(buff)-1,1))\n",
    "def hypernyms(ind=0):\n",
    "    pp = pprint.PrettyPrinter(indent=4)\n",
    "    print(' '.join(buff[ind][0]))\n",
    "    pp.pprint(buff[ind][1])"
   ]
  },
  {
   "cell_type": "code",
   "execution_count": null,
   "metadata": {},
   "outputs": [],
   "source": []
  }
 ],
 "metadata": {
  "colab": {
   "name": "HypernymTitles.ipynb",
   "provenance": []
  },
  "kernelspec": {
   "display_name": "Python 3",
   "language": "python",
   "name": "python3"
  },
  "language_info": {
   "codemirror_mode": {
    "name": "ipython",
    "version": 3
   },
   "file_extension": ".py",
   "mimetype": "text/x-python",
   "name": "python",
   "nbconvert_exporter": "python",
   "pygments_lexer": "ipython3",
   "version": "3.7.3"
  }
 },
 "nbformat": 4,
 "nbformat_minor": 1
}
